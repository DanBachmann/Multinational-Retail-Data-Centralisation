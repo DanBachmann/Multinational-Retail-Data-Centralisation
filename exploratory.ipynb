{
 "cells": [
  {
   "cell_type": "markdown",
   "metadata": {},
   "source": [
    "This file has utility classes for exploring our data to assist in the development and data cleaning processes."
   ]
  },
  {
   "cell_type": "code",
   "execution_count": 10,
   "metadata": {},
   "outputs": [],
   "source": [
    "import pandas as pd\n",
    "from database_utils import DatabaseConnector\n",
    "from data_extraction import DataExtractor\n",
    "\n",
    "def inspect_source_table_names():\n",
    "    db_connector = DatabaseConnector()\n",
    "    db_creds = db_connector.read_db_creds()\n",
    "    db_engine = db_connector.init_db_engine(db_creds)\n",
    "    table_names = db_connector.list_db_tables(db_engine)\n",
    "    return table_names\n",
    "\n",
    "def inspect_source_table_data(table_name):\n",
    "    db_connector = DatabaseConnector()\n",
    "    data_extractor = DataExtractor()\n",
    "    data_frame = data_extractor.read_rds_table(db_connector, table_name)\n",
    "    explore_data_frame(data_frame)\n",
    "\n",
    "def explore_data_frame(data_frame):\n",
    "    print(data_frame.head())\n",
    "    print(data_frame.info())\n",
    "    print(data_frame.describe())\n",
    "    print(data_frame.columns)\n",
    "\n",
    "def explore_numeric_column(column):\n",
    "    for cell_value in column:\n",
    "        if cell_value is not None:\n",
    "            try:\n",
    "                int_test = int(cell_value)\n",
    "            except ValueError:\n",
    "                print(cell_value)\n",
    "\n",
    "def explore_date_column(column):\n",
    "    for cell_value in column:\n",
    "        if cell_value is not None:\n",
    "            try:\n",
    "                date_test = pd.to_datetime(cell_value)\n",
    "            except ValueError:\n",
    "                print(cell_value)\n",
    "\n",
    "\n",
    "data_extractor = DataExtractor()\n",
    "api_config = data_extractor.read_api_creds()\n",
    "api_header_dict = {'x-api-key': api_config['stores_api_key']}\n",
    "number_stores_url = api_config['number_stores_url']\n",
    "store_data_template = api_config['store_data_template']\n",
    "card_data_url = api_config['card_data_url']\n",
    "products_csv_uri = api_config['products_csv_uri']\n",
    "date_details_url = api_config['date_details_url']"
   ]
  },
  {
   "cell_type": "markdown",
   "metadata": {},
   "source": [
    "table inspection"
   ]
  },
  {
   "cell_type": "code",
   "execution_count": 12,
   "metadata": {},
   "outputs": [
    {
     "name": "stdout",
     "output_type": "stream",
     "text": [
      "['legacy_store_details', 'legacy_users', 'orders_table']\n"
     ]
    }
   ],
   "source": [
    "table_names = inspect_source_table_names()\n",
    "print(table_names)\n"
   ]
  },
  {
   "cell_type": "code",
   "execution_count": null,
   "metadata": {},
   "outputs": [],
   "source": [
    "inspect_source_table_data(table_names[1])"
   ]
  },
  {
   "cell_type": "code",
   "execution_count": null,
   "metadata": {},
   "outputs": [],
   "source": [
    "inspect_source_table_data(table_names[2])"
   ]
  },
  {
   "cell_type": "markdown",
   "metadata": {},
   "source": [
    "PDF card details inspection"
   ]
  },
  {
   "cell_type": "code",
   "execution_count": 24,
   "metadata": {},
   "outputs": [],
   "source": [
    "card_data_frame = data_extractor.retrieve_pdf_data(card_data_url)"
   ]
  },
  {
   "cell_type": "code",
   "execution_count": 27,
   "metadata": {},
   "outputs": [
    {
     "name": "stdout",
     "output_type": "stream",
     "text": [
      "?4971858637664481\n",
      "???3554954842403828\n",
      "NULL\n",
      "VAB9DSB8ZM\n",
      "NULL\n",
      "NULL\n",
      "MOZOT5Q95V\n",
      "??4654492346226715\n",
      "NULL\n",
      "NULL\n",
      "NULL\n",
      "?3544855866042397\n",
      "K0084A9R99\n",
      "NULL\n",
      "Y8ITI33X30\n",
      "??2720312980409662\n",
      "RNSCD8OCIM\n",
      "??4982246481860\n",
      "?213174667750869\n",
      "NULL\n",
      "????3505784569448924\n",
      "NULL\n",
      "????3556268655280464\n",
      "???2604762576985106\n",
      "MIK9G2EMM0\n",
      "???5451311230288361\n",
      "I4PWLWSIRJ\n",
      "OMZSBN2XG3\n",
      "NB8JJ05D7R\n",
      "???4252720361802860591\n",
      "?4217347542710\n",
      "?584541931351\n",
      "???4672685148732305\n",
      "??3535182016456604\n",
      "?4222069242355461965\n",
      "????3512756643215215\n",
      "G0EF4TS8C8\n",
      "?2314734659486501\n",
      "????341935091733787\n",
      "Z8855EXTJX\n",
      "????3543745641013832\n",
      "JQTLQAAQTD\n",
      "T23BTBBJDD\n",
      "??575421945446\n",
      "??630466795154\n",
      "????38922600092697\n",
      "NULL\n",
      "NULL\n",
      "????344132437598598\n",
      "???4814644393449676\n",
      "LSWT9DT4G4\n"
     ]
    }
   ],
   "source": [
    "explore_numeric_column(card_data_frame['card_number'])\n",
    "# card_data_frame['card_number'] = card_data_frame['card_number'].apply(remove_unwanted_characters)\n",
    "card_data_frame['card_number'] = pd.to_numeric(card_data_frame['card_number'], errors='coerce')\n",
    "card_data_frame.dropna(inplace=True)\n",
    "card_data_frame['card_number'] = card_data_frame['card_number'].astype('int64', errors='ignore')\n",
    "print(\"---\")\n",
    "explore_numeric_column(card_data_frame['card_number'])\n"
   ]
  },
  {
   "cell_type": "code",
   "execution_count": 26,
   "metadata": {},
   "outputs": [
    {
     "name": "stdout",
     "output_type": "stream",
     "text": [
      "---\n"
     ]
    }
   ],
   "source": [
    "explore_date_column(card_data_frame['date_payment_confirmed'])\n",
    "card_data_frame['date_payment_confirmed'] = pd.to_datetime(card_data_frame['date_payment_confirmed'], errors='coerce')\n",
    "print(\"---\")\n",
    "explore_date_column(card_data_frame['date_payment_confirmed'])\n"
   ]
  }
 ],
 "metadata": {
  "kernelspec": {
   "display_name": "AiCoreTabula",
   "language": "python",
   "name": "python3"
  },
  "language_info": {
   "codemirror_mode": {
    "name": "ipython",
    "version": 3
   },
   "file_extension": ".py",
   "mimetype": "text/x-python",
   "name": "python",
   "nbconvert_exporter": "python",
   "pygments_lexer": "ipython3",
   "version": "3.12.0"
  }
 },
 "nbformat": 4,
 "nbformat_minor": 2
}
