{
 "cells": [
  {
   "cell_type": "markdown",
   "metadata": {},
   "source": [
    "This file has utility classes for exploring our data to assist in the development and data cleaning processes. Beyond the basic checking of types and exploring tables on the RDS database, the write_raw option to write to an SQL database where queries can be used to explore the data is extremly valuable."
   ]
  },
  {
   "cell_type": "code",
   "execution_count": 70,
   "metadata": {},
   "outputs": [],
   "source": [
    "import pandas as pd\n",
    "from data_cleaning import DataCleaning\n",
    "from database_utils import DatabaseConnector\n",
    "from data_extraction import DataExtractor\n",
    "\n",
    "def inspect_source_table_names():\n",
    "    db_creds = db_connector.read_db_creds()\n",
    "    db_engine = db_connector.init_db_engine(db_creds)\n",
    "    table_names = db_connector.list_db_tables(db_engine)\n",
    "    return table_names\n",
    "\n",
    "def inspect_source_table_data(table_name):\n",
    "    data_frame = data_extractor.read_rds_table(db_connector, table_name)\n",
    "    explore_data_frame(data_frame)\n",
    "\n",
    "def explore_data_frame(data_frame):\n",
    "    print(data_frame.head())\n",
    "    print(data_frame.info())\n",
    "    print(data_frame.describe())\n",
    "    print(data_frame.columns)\n",
    "\n",
    "def explore_numeric_column(column):\n",
    "    for cell_value in column:\n",
    "        if cell_value is not None:\n",
    "            try:\n",
    "                int_test = int(cell_value)\n",
    "            except ValueError:\n",
    "                print(cell_value)\n",
    "\n",
    "def explore_date_column(column):\n",
    "    for cell_value in column:\n",
    "        if cell_value is not None:\n",
    "            try:\n",
    "                date_test = pd.to_datetime(cell_value)\n",
    "            except ValueError:\n",
    "                print(cell_value)\n",
    "\n",
    "data_extractor = DataExtractor()\n",
    "db_connector = DatabaseConnector()\n",
    "data_cleaner = DataCleaning()\n",
    "api_config = data_extractor.read_api_creds()\n",
    "api_header_dict = {'x-api-key': api_config['stores_api_key']}\n",
    "number_stores_url = api_config['number_stores_url']\n",
    "store_data_template = api_config['store_data_template']\n",
    "card_data_url = api_config['card_data_url']\n",
    "products_csv_uri = api_config['products_csv_uri']\n",
    "date_details_url = api_config['date_details_url']"
   ]
  },
  {
   "cell_type": "markdown",
   "metadata": {},
   "source": [
    "table inspection"
   ]
  },
  {
   "cell_type": "code",
   "execution_count": 51,
   "metadata": {},
   "outputs": [
    {
     "name": "stdout",
     "output_type": "stream",
     "text": [
      "['legacy_store_details', 'legacy_users', 'orders_table']\n"
     ]
    }
   ],
   "source": [
    "table_names = inspect_source_table_names()\n",
    "print(table_names)\n"
   ]
  },
  {
   "cell_type": "code",
   "execution_count": 52,
   "metadata": {},
   "outputs": [
    {
     "name": "stdout",
     "output_type": "stream",
     "text": [
      "   index first_name last_name date_of_birth                    company  \\\n",
      "0      0   Sigfried     Noack    1990-09-30         Heydrich Junitz KG   \n",
      "1      1        Guy     Allen    1940-12-01                    Fox Ltd   \n",
      "2      2      Harry  Lawrence    1995-08-02  Johnson, Jones and Harris   \n",
      "3      3     Darren   Hussain    1972-09-23                Wheeler LLC   \n",
      "4      4      Garry     Stone    1952-12-20                 Warner Inc   \n",
      "\n",
      "                  email_address  \\\n",
      "0             rudi79@winkler.de   \n",
      "1  rhodesclifford@henderson.com   \n",
      "2  glen98@bryant-marshall.co.uk   \n",
      "3    daniellebryan@thompson.org   \n",
      "4       billy14@long-warren.com   \n",
      "\n",
      "                                             address         country  \\\n",
      "0                       Zimmerstr. 1/0\\n59015 Gießen         Germany   \n",
      "1  Studio 22a\\nLynne terrace\\nMcCarthymouth\\nTF0 9GH  United Kingdom   \n",
      "2                 92 Ann drive\\nJoanborough\\nSK0 6LR  United Kingdom   \n",
      "3             19 Robinson meadow\\nNew Tracy\\nW22 2QG  United Kingdom   \n",
      "4              3 White pass\\nHunterborough\\nNN96 4UE  United Kingdom   \n",
      "\n",
      "  country_code       phone_number   join_date  \\\n",
      "0           DE   +49(0) 047905356  2018-10-10   \n",
      "1           GB    (0161) 496 0674  2001-12-20   \n",
      "2           GB  +44(0)121 4960340  2016-12-16   \n",
      "3           GB    (0306) 999 0871  2004-02-23   \n",
      "4           GB      0121 496 0225  2006-09-01   \n",
      "\n",
      "                              user_uuid  \n",
      "0  93caf182-e4e9-4c6e-bebb-60a1a9dcf9b8  \n",
      "1  8fe96c3a-d62d-4eb5-b313-cf12d9126a49  \n",
      "2  fc461df4-b919-48b2-909e-55c95a03fe6b  \n",
      "3  6104719f-ef14-4b09-bf04-fb0c4620acb0  \n",
      "4  9523a6d3-b2dd-4670-a51a-36aebc89f579  \n",
      "<class 'pandas.core.frame.DataFrame'>\n",
      "RangeIndex: 15320 entries, 0 to 15319\n",
      "Data columns (total 12 columns):\n",
      " #   Column         Non-Null Count  Dtype \n",
      "---  ------         --------------  ----- \n",
      " 0   index          15320 non-null  int64 \n",
      " 1   first_name     15320 non-null  object\n",
      " 2   last_name      15320 non-null  object\n",
      " 3   date_of_birth  15320 non-null  object\n",
      " 4   company        15320 non-null  object\n",
      " 5   email_address  15320 non-null  object\n",
      " 6   address        15320 non-null  object\n",
      " 7   country        15320 non-null  object\n",
      " 8   country_code   15320 non-null  object\n",
      " 9   phone_number   15320 non-null  object\n",
      " 10  join_date      15320 non-null  object\n",
      " 11  user_uuid      15320 non-null  object\n",
      "dtypes: int64(1), object(11)\n",
      "memory usage: 1.4+ MB\n",
      "None\n",
      "              index\n",
      "count  15320.000000\n",
      "mean    7659.500000\n",
      "std     4422.647397\n",
      "min        0.000000\n",
      "25%     3829.750000\n",
      "50%     7659.500000\n",
      "75%    11489.250000\n",
      "max    15319.000000\n",
      "Index(['index', 'first_name', 'last_name', 'date_of_birth', 'company',\n",
      "       'email_address', 'address', 'country', 'country_code', 'phone_number',\n",
      "       'join_date', 'user_uuid'],\n",
      "      dtype='object')\n"
     ]
    }
   ],
   "source": [
    "inspect_source_table_data(table_names[1])"
   ]
  },
  {
   "cell_type": "markdown",
   "metadata": {},
   "source": [
    "PDF card details inspection"
   ]
  },
  {
   "cell_type": "code",
   "execution_count": 57,
   "metadata": {},
   "outputs": [],
   "source": [
    "card_data_frame = data_extractor.retrieve_pdf_data(card_data_url)"
   ]
  },
  {
   "cell_type": "markdown",
   "metadata": {},
   "source": [
    "find and fix card payment issues"
   ]
  },
  {
   "cell_type": "code",
   "execution_count": 59,
   "metadata": {},
   "outputs": [
    {
     "name": "stdout",
     "output_type": "stream",
     "text": [
      "---\n"
     ]
    }
   ],
   "source": [
    "explore_date_column(card_data_frame['date_payment_confirmed'])\n",
    "card_data_frame['date_payment_confirmed'] = pd.to_datetime(card_data_frame['date_payment_confirmed'], errors='coerce')\n",
    "print(\"---\")\n",
    "explore_date_column(card_data_frame['date_payment_confirmed'])\n"
   ]
  }
 ],
 "metadata": {
  "kernelspec": {
   "display_name": "AiCoreTabula",
   "language": "python",
   "name": "python3"
  },
  "language_info": {
   "codemirror_mode": {
    "name": "ipython",
    "version": 3
   },
   "file_extension": ".py",
   "mimetype": "text/x-python",
   "name": "python",
   "nbconvert_exporter": "python",
   "pygments_lexer": "ipython3",
   "version": "3.12.0"
  }
 },
 "nbformat": 4,
 "nbformat_minor": 2
}
